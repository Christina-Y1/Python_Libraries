{
 "cells": [
  {
   "cell_type": "markdown",
   "metadata": {},
   "source": [
    "**1. Посмотреть документацию к API GitHub, разобраться как вывести список репозиториев для конкретного пользователя, сохранить JSON-вывод в файле *.json.**"
   ]
  },
  {
   "cell_type": "code",
   "execution_count": 1,
   "metadata": {},
   "outputs": [],
   "source": [
    "from pprint import pprint\n",
    "import requests\n",
    "import json"
   ]
  },
  {
   "cell_type": "code",
   "execution_count": 2,
   "metadata": {},
   "outputs": [],
   "source": [
    "main_link = 'https://api.github.com/users/Christinayar/repos'"
   ]
  },
  {
   "cell_type": "code",
   "execution_count": 3,
   "metadata": {},
   "outputs": [],
   "source": [
    "response = requests.get(main_link)"
   ]
  },
  {
   "cell_type": "code",
   "execution_count": 4,
   "metadata": {},
   "outputs": [
    {
     "name": "stdout",
     "output_type": "stream",
     "text": [
      "{'archive_url': 'https://api.github.com/repos/Christinayar/Geekbrains-MySQL/{archive_format}{/ref}',\n",
      " 'archived': False,\n",
      " 'assignees_url': 'https://api.github.com/repos/Christinayar/Geekbrains-MySQL/assignees{/user}',\n",
      " 'blobs_url': 'https://api.github.com/repos/Christinayar/Geekbrains-MySQL/git/blobs{/sha}',\n",
      " 'branches_url': 'https://api.github.com/repos/Christinayar/Geekbrains-MySQL/branches{/branch}',\n",
      " 'clone_url': 'https://github.com/Christinayar/Geekbrains-MySQL.git',\n",
      " 'collaborators_url': 'https://api.github.com/repos/Christinayar/Geekbrains-MySQL/collaborators{/collaborator}',\n",
      " 'comments_url': 'https://api.github.com/repos/Christinayar/Geekbrains-MySQL/comments{/number}',\n",
      " 'commits_url': 'https://api.github.com/repos/Christinayar/Geekbrains-MySQL/commits{/sha}',\n",
      " 'compare_url': 'https://api.github.com/repos/Christinayar/Geekbrains-MySQL/compare/{base}...{head}',\n",
      " 'contents_url': 'https://api.github.com/repos/Christinayar/Geekbrains-MySQL/contents/{+path}',\n",
      " 'contributors_url': 'https://api.github.com/repos/Christinayar/Geekbrains-MySQL/contributors',\n",
      " 'created_at': '2020-03-27T20:22:53Z',\n",
      " 'default_branch': 'master',\n",
      " 'deployments_url': 'https://api.github.com/repos/Christinayar/Geekbrains-MySQL/deployments',\n",
      " 'description': 'Выполненные упражнения SQL',\n",
      " 'disabled': False,\n",
      " 'downloads_url': 'https://api.github.com/repos/Christinayar/Geekbrains-MySQL/downloads',\n",
      " 'events_url': 'https://api.github.com/repos/Christinayar/Geekbrains-MySQL/events',\n",
      " 'fork': False,\n",
      " 'forks': 0,\n",
      " 'forks_count': 0,\n",
      " 'forks_url': 'https://api.github.com/repos/Christinayar/Geekbrains-MySQL/forks',\n",
      " 'full_name': 'Christinayar/Geekbrains-MySQL',\n",
      " 'git_commits_url': 'https://api.github.com/repos/Christinayar/Geekbrains-MySQL/git/commits{/sha}',\n",
      " 'git_refs_url': 'https://api.github.com/repos/Christinayar/Geekbrains-MySQL/git/refs{/sha}',\n",
      " 'git_tags_url': 'https://api.github.com/repos/Christinayar/Geekbrains-MySQL/git/tags{/sha}',\n",
      " 'git_url': 'git://github.com/Christinayar/Geekbrains-MySQL.git',\n",
      " 'has_downloads': True,\n",
      " 'has_issues': True,\n",
      " 'has_pages': False,\n",
      " 'has_projects': True,\n",
      " 'has_wiki': True,\n",
      " 'homepage': '',\n",
      " 'hooks_url': 'https://api.github.com/repos/Christinayar/Geekbrains-MySQL/hooks',\n",
      " 'html_url': 'https://github.com/Christinayar/Geekbrains-MySQL',\n",
      " 'id': 250638718,\n",
      " 'issue_comment_url': 'https://api.github.com/repos/Christinayar/Geekbrains-MySQL/issues/comments{/number}',\n",
      " 'issue_events_url': 'https://api.github.com/repos/Christinayar/Geekbrains-MySQL/issues/events{/number}',\n",
      " 'issues_url': 'https://api.github.com/repos/Christinayar/Geekbrains-MySQL/issues{/number}',\n",
      " 'keys_url': 'https://api.github.com/repos/Christinayar/Geekbrains-MySQL/keys{/key_id}',\n",
      " 'labels_url': 'https://api.github.com/repos/Christinayar/Geekbrains-MySQL/labels{/name}',\n",
      " 'language': 'TSQL',\n",
      " 'languages_url': 'https://api.github.com/repos/Christinayar/Geekbrains-MySQL/languages',\n",
      " 'license': None,\n",
      " 'merges_url': 'https://api.github.com/repos/Christinayar/Geekbrains-MySQL/merges',\n",
      " 'milestones_url': 'https://api.github.com/repos/Christinayar/Geekbrains-MySQL/milestones{/number}',\n",
      " 'mirror_url': None,\n",
      " 'name': 'Geekbrains-MySQL',\n",
      " 'node_id': 'MDEwOlJlcG9zaXRvcnkyNTA2Mzg3MTg=',\n",
      " 'notifications_url': 'https://api.github.com/repos/Christinayar/Geekbrains-MySQL/notifications{?since,all,participating}',\n",
      " 'open_issues': 0,\n",
      " 'open_issues_count': 0,\n",
      " 'owner': {'avatar_url': 'https://avatars2.githubusercontent.com/u/49560511?v=4',\n",
      "           'events_url': 'https://api.github.com/users/Christinayar/events{/privacy}',\n",
      "           'followers_url': 'https://api.github.com/users/Christinayar/followers',\n",
      "           'following_url': 'https://api.github.com/users/Christinayar/following{/other_user}',\n",
      "           'gists_url': 'https://api.github.com/users/Christinayar/gists{/gist_id}',\n",
      "           'gravatar_id': '',\n",
      "           'html_url': 'https://github.com/Christinayar',\n",
      "           'id': 49560511,\n",
      "           'login': 'Christinayar',\n",
      "           'node_id': 'MDQ6VXNlcjQ5NTYwNTEx',\n",
      "           'organizations_url': 'https://api.github.com/users/Christinayar/orgs',\n",
      "           'received_events_url': 'https://api.github.com/users/Christinayar/received_events',\n",
      "           'repos_url': 'https://api.github.com/users/Christinayar/repos',\n",
      "           'site_admin': False,\n",
      "           'starred_url': 'https://api.github.com/users/Christinayar/starred{/owner}{/repo}',\n",
      "           'subscriptions_url': 'https://api.github.com/users/Christinayar/subscriptions',\n",
      "           'type': 'User',\n",
      "           'url': 'https://api.github.com/users/Christinayar'},\n",
      " 'private': False,\n",
      " 'pulls_url': 'https://api.github.com/repos/Christinayar/Geekbrains-MySQL/pulls{/number}',\n",
      " 'pushed_at': '2020-05-02T14:52:42Z',\n",
      " 'releases_url': 'https://api.github.com/repos/Christinayar/Geekbrains-MySQL/releases{/id}',\n",
      " 'size': 132,\n",
      " 'ssh_url': 'git@github.com:Christinayar/Geekbrains-MySQL.git',\n",
      " 'stargazers_count': 0,\n",
      " 'stargazers_url': 'https://api.github.com/repos/Christinayar/Geekbrains-MySQL/stargazers',\n",
      " 'statuses_url': 'https://api.github.com/repos/Christinayar/Geekbrains-MySQL/statuses/{sha}',\n",
      " 'subscribers_url': 'https://api.github.com/repos/Christinayar/Geekbrains-MySQL/subscribers',\n",
      " 'subscription_url': 'https://api.github.com/repos/Christinayar/Geekbrains-MySQL/subscription',\n",
      " 'svn_url': 'https://github.com/Christinayar/Geekbrains-MySQL',\n",
      " 'tags_url': 'https://api.github.com/repos/Christinayar/Geekbrains-MySQL/tags',\n",
      " 'teams_url': 'https://api.github.com/repos/Christinayar/Geekbrains-MySQL/teams',\n",
      " 'trees_url': 'https://api.github.com/repos/Christinayar/Geekbrains-MySQL/git/trees{/sha}',\n",
      " 'updated_at': '2020-05-02T17:01:37Z',\n",
      " 'url': 'https://api.github.com/repos/Christinayar/Geekbrains-MySQL',\n",
      " 'watchers': 0,\n",
      " 'watchers_count': 0}\n"
     ]
    }
   ],
   "source": [
    "data = response.json()[1]\n",
    "pprint(data)"
   ]
  },
  {
   "cell_type": "code",
   "execution_count": 5,
   "metadata": {},
   "outputs": [
    {
     "name": "stdout",
     "output_type": "stream",
     "text": [
      "https://github.com/Christinayar/Geekbrains-Courseworks\n",
      "https://github.com/Christinayar/Geekbrains-MySQL\n",
      "https://github.com/Christinayar/Jupyter_Notebook-Projects\n",
      "https://github.com/Christinayar/LearningSQL\n",
      "https://github.com/Christinayar/Python-Projects\n"
     ]
    }
   ],
   "source": [
    "for i in response.json():\n",
    "    print(i['html_url'])"
   ]
  },
  {
   "cell_type": "code",
   "execution_count": 6,
   "metadata": {},
   "outputs": [],
   "source": [
    "with open('data.json', 'w') as f:\n",
    "    json.dump(response.json(), f)"
   ]
  }
 ],
 "metadata": {
  "kernelspec": {
   "display_name": "Python 3",
   "language": "python",
   "name": "python3"
  },
  "language_info": {
   "codemirror_mode": {
    "name": "ipython",
    "version": 3
   },
   "file_extension": ".py",
   "mimetype": "text/x-python",
   "name": "python",
   "nbconvert_exporter": "python",
   "pygments_lexer": "ipython3",
   "version": "3.7.4"
  }
 },
 "nbformat": 4,
 "nbformat_minor": 4
}
