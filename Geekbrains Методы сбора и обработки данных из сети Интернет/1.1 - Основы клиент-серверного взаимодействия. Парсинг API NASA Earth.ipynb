{
 "cells": [
  {
   "cell_type": "markdown",
   "metadata": {},
   "source": [
    "**2. Изучить список открытых API (https://www.programmableweb.com/category/all/apis). Найти среди них любое, требующее авторизацию (любого типа). Выполнить запросы к нему, пройдя авторизацию. Ответ сервера записать в файл.**"
   ]
  },
  {
   "cell_type": "code",
   "execution_count": 1,
   "metadata": {},
   "outputs": [],
   "source": [
    "from pprint import pprint\n",
    "import requests\n",
    "import json"
   ]
  },
  {
   "cell_type": "markdown",
   "metadata": {},
   "source": [
    "***https://www.programmableweb.com/api/nasa-earth-rest-api-v10***\n",
    "NASA's Earth API gives users access to Earth observation data. The Earth API is powered by the Google Earth Engine and consists of a database of images from Landsat 8. Landsat 8 is NASA satellite that takes images of the entire Earth every 16 days. Users can query the database for images of a specific place at a specific date"
   ]
  },
  {
   "cell_type": "code",
   "execution_count": 2,
   "metadata": {},
   "outputs": [],
   "source": [
    "main_link = 'https://api.nasa.gov/planetary/apod?api_key=AY6ihlmPkduiC2u0Cn1AfNTxYcymf1tfVgTN9eOL'"
   ]
  },
  {
   "cell_type": "code",
   "execution_count": 3,
   "metadata": {},
   "outputs": [],
   "source": [
    "response = requests.get(main_link)"
   ]
  },
  {
   "cell_type": "code",
   "execution_count": 4,
   "metadata": {},
   "outputs": [
    {
     "name": "stdout",
     "output_type": "stream",
     "text": [
      "True\n"
     ]
    }
   ],
   "source": [
    "print (response.ok)"
   ]
  },
  {
   "cell_type": "code",
   "execution_count": 5,
   "metadata": {},
   "outputs": [
    {
     "name": "stdout",
     "output_type": "stream",
     "text": [
      "{'date': '2020-06-30',\n",
      " 'explanation': 'What created this unusual planetary nebula? NGC 7027 is one '\n",
      "                'of the smallest, brightest, and most unusually shaped '\n",
      "                'planetary nebulas known. Given its expansion rate, NGC 7027 '\n",
      "                'first started expanding, as visible from Earth, about 600 '\n",
      "                'years ago.  For much of its history, the planetary nebula has '\n",
      "                'been expelling shells, as seen in blue in the featured '\n",
      "                'image.  In modern times, though, for reasons unknown, it '\n",
      "                'began ejecting gas and dust (seen in red) in specific '\n",
      "                'directions that created a new pattern that seems to have four '\n",
      "                'corners. These shells and patterns have been mapped in '\n",
      "                'impressive detail by recent images from the Wide Field Camera '\n",
      "                '3 onboard the Hubble Space Telescope.  What lies at the '\n",
      "                \"nebula's center is unknown, with one hypothesis holding it to \"\n",
      "                'be a close binary star system where one star sheds gas onto '\n",
      "                'an erratic disk orbiting the other star. NGC 7027, about '\n",
      "                '3,000 light years away, was first discovered in 1878 and can '\n",
      "                'be seen with a standard backyard telescope toward the '\n",
      "                'constellation of the Swan (Cygnus).',\n",
      " 'hdurl': 'https://apod.nasa.gov/apod/image/2006/ngc7027_HubbleKastner_1764.jpg',\n",
      " 'media_type': 'image',\n",
      " 'service_version': 'v1',\n",
      " 'title': 'Bright Planetary Nebula NGC 7027 from Hubble',\n",
      " 'url': 'https://apod.nasa.gov/apod/image/2006/ngc7027_HubbleKastner_960.jpg'}\n"
     ]
    }
   ],
   "source": [
    "data = response.json()\n",
    "pprint(data)"
   ]
  },
  {
   "cell_type": "code",
   "execution_count": 6,
   "metadata": {},
   "outputs": [],
   "source": [
    "with open('data_nasa.json', 'w') as f:\n",
    "    json.dump(response.json(), f)"
   ]
  },
  {
   "cell_type": "code",
   "execution_count": 7,
   "metadata": {},
   "outputs": [],
   "source": [
    "image_link = 'https://apod.nasa.gov/apod/image/2006/ngc7027_HubbleKastner_960.jpg'"
   ]
  },
  {
   "cell_type": "code",
   "execution_count": 8,
   "metadata": {},
   "outputs": [],
   "source": [
    "r = requests.get(image_link)"
   ]
  },
  {
   "cell_type": "code",
   "execution_count": 9,
   "metadata": {},
   "outputs": [],
   "source": [
    "with open('pic.jpg', 'wb') as f:\n",
    "    f.write(r.content)"
   ]
  }
 ],
 "metadata": {
  "kernelspec": {
   "display_name": "Python 3",
   "language": "python",
   "name": "python3"
  },
  "language_info": {
   "codemirror_mode": {
    "name": "ipython",
    "version": 3
   },
   "file_extension": ".py",
   "mimetype": "text/x-python",
   "name": "python",
   "nbconvert_exporter": "python",
   "pygments_lexer": "ipython3",
   "version": "3.7.4"
  }
 },
 "nbformat": 4,
 "nbformat_minor": 4
}
